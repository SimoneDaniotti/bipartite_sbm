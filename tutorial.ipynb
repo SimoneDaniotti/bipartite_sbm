{
 "cells": [
  {
   "cell_type": "code",
   "execution_count": 2,
   "metadata": {},
   "outputs": [],
   "source": [
    "import graph_tool.all as gt\n",
    "import numpy as np\n",
    "import random\n",
    "import pandas as pd\n",
    "import sbm_bipartite"
   ]
  },
  {
   "cell_type": "code",
   "execution_count": 3,
   "metadata": {},
   "outputs": [],
   "source": [
    "dest=\"./toy_data.csv\"\n",
    "seed=43\n",
    "gt.seed_rng(seed) ## seed for graph-tool's random number generator --> same results\n"
   ]
  },
  {
   "cell_type": "code",
   "execution_count": 4,
   "metadata": {},
   "outputs": [],
   "source": [
    "model=sbm_bipartite.bipartite_sbm()"
   ]
  },
  {
   "cell_type": "code",
   "execution_count": 5,
   "metadata": {},
   "outputs": [
    {
     "name": "stdout",
     "output_type": "stream",
     "text": [
      "<NestedBlockState object, with base <BlockState object with 220 blocks (40 nonempty), degree-corrected, for graph <Graph object, undirected, with 220 vertices and 110 edges, 2 internal vertex properties, 1 internal edge property, at 0x7f609cbbf6e0>, at 0x7f5fd838bb90>, and 6 levels of sizes [(220, 40), (40, 12), (12, 6), (6, 4), (4, 2), (2, 1)] at 0x7f5fd8389400>\n"
     ]
    },
    {
     "data": {
      "text/plain": [
       "<NestedBlockState object, with base <BlockState object with 220 blocks (40 nonempty), degree-corrected, for graph <Graph object, undirected, with 220 vertices and 110 edges, 2 internal vertex properties, 1 internal edge property, at 0x7f609cbbf6e0>, at 0x7f5fd8db3cb0>, and 6 levels of sizes [(220, 40), (40, 12), (12, 6), (6, 4), (4, 2), (2, 1)] at 0x7f60982be120>"
      ]
     },
     "execution_count": 5,
     "metadata": {},
     "output_type": "execute_result"
    }
   ],
   "source": [
    "model.load_graph(dest)\n",
    "model.fit()\n",
    "model.state"
   ]
  },
  {
   "cell_type": "code",
   "execution_count": 6,
   "metadata": {},
   "outputs": [],
   "source": [
    "size = model.g.new_vp(\"float\")     # creates a VertexPropertyMap of type string\n",
    "for v in model.g.vertices():\n",
    "    size[v] = 0.8\n",
    "    \n",
    "\n",
    "model.g.vp.size = size"
   ]
  },
  {
   "cell_type": "code",
   "execution_count": 7,
   "metadata": {},
   "outputs": [],
   "source": [
    "eweight = model.g.new_ep(\"double\")\n",
    "\n",
    "for e in model.g.edges():\n",
    "    eweight[e]=0.5"
   ]
  },
  {
   "cell_type": "code",
   "execution_count": 21,
   "metadata": {},
   "outputs": [],
   "source": [
    "nedges=1000\n",
    "hide_hierarchy=0\n",
    "h_v_size=7.0\n",
    "h_e_size=2.0\n",
    "file=\"/home/simone/Downloads/prova6.pdf\""
   ]
  },
  {
   "cell_type": "code",
   "execution_count": 23,
   "metadata": {},
   "outputs": [
    {
     "data": {
      "text/plain": [
       "(<VertexPropertyMap object with value type 'vector<double>', for Graph 0x7344d6909730, at 0x7344d6990a40>,\n",
       " <GraphView object, directed, with 311 vertices and 310 edges, edges filtered by (<EdgePropertyMap object with value type 'bool', for Graph 0x7344d67fafc0, at 0x7344d67fbb60>, False), vertices filtered by (<VertexPropertyMap object with value type 'bool', for Graph 0x7344d67fafc0, at 0x7344d67fb1a0>, False), at 0x7344d67fafc0>,\n",
       " <VertexPropertyMap object with value type 'vector<double>', for Graph 0x7344d67fafc0, at 0x7344db050440>)"
      ]
     },
     "execution_count": 23,
     "metadata": {},
     "output_type": "execute_result"
    }
   ],
   "source": [
    "'''\n",
    "        Plot the graph and group structure.\n",
    "        optional:\n",
    "        - filename, str; where to save the plot. if None, will not be saved\n",
    "        - nedges, int; subsample  to plot (faster, less memory)\n",
    "        - hide_h, int; wether or not to hide the hierarchy\n",
    "        - h_v_size, float; size of hierarchical vertices\n",
    "        - h_e_size, float; size of hierarchical edges\n",
    "        - **kwargs; keyword arguments passed to self.state.draw method (https://graph-tool.skewed.de/static/doc/draw.html#graph_tool.draw.draw_hierarchy)\n",
    "        '''\n",
    "model.state.draw(layout='bipartite', #vertex_text=g.vp.name,# output=filename,\n",
    "                        vertex_size=size,\n",
    "                        edge_pen_width=eweight,\n",
    "                        subsample_edges=nedges, hshortcuts=1, hide=hide_hierarchy,\n",
    "                        hvprops={'size':h_v_size},\n",
    "                        heprops={'pen_width':h_e_size},\n",
    "                        output=file\n",
    "                       )"
   ]
  }
 ],
 "metadata": {
  "kernelspec": {
   "display_name": "github",
   "language": "python",
   "name": "python3"
  },
  "language_info": {
   "codemirror_mode": {
    "name": "ipython",
    "version": 3
   },
   "file_extension": ".py",
   "mimetype": "text/x-python",
   "name": "python",
   "nbconvert_exporter": "python",
   "pygments_lexer": "ipython3",
   "version": "3.12.2"
  }
 },
 "nbformat": 4,
 "nbformat_minor": 2
}
